{
 "cells": [
  {
   "cell_type": "code",
   "execution_count": 1,
   "metadata": {},
   "outputs": [
    {
     "name": "stdout",
     "output_type": "stream",
     "text": [
      "Collecting selenium\n",
      "  Downloading selenium-4.6.1-py3-none-any.whl (6.0 MB)\n",
      "Collecting trio-websocket~=0.9\n",
      "  Downloading trio_websocket-0.9.2-py3-none-any.whl (16 kB)\n",
      "Collecting trio~=0.17\n",
      "  Downloading trio-0.22.0-py3-none-any.whl (384 kB)\n",
      "Requirement already satisfied: urllib3[socks]~=1.26 in c:\\users\\a\\appdata\\local\\programs\\python\\python39\\lib\\site-packages (from selenium) (1.26.8)\n",
      "Requirement already satisfied: certifi>=2021.10.8 in c:\\users\\a\\appdata\\local\\programs\\python\\python39\\lib\\site-packages (from selenium) (2021.10.8)\n",
      "Collecting sortedcontainers\n",
      "  Downloading sortedcontainers-2.4.0-py2.py3-none-any.whl (29 kB)\n",
      "Requirement already satisfied: attrs>=19.2.0 in c:\\users\\a\\appdata\\local\\programs\\python\\python39\\lib\\site-packages (from trio~=0.17->selenium) (21.4.0)\n",
      "Requirement already satisfied: idna in c:\\users\\a\\appdata\\local\\programs\\python\\python39\\lib\\site-packages (from trio~=0.17->selenium) (3.3)\n",
      "Requirement already satisfied: cffi>=1.14 in c:\\users\\a\\appdata\\local\\programs\\python\\python39\\lib\\site-packages (from trio~=0.17->selenium) (1.15.0)\n",
      "Collecting async-generator>=1.9\n",
      "  Downloading async_generator-1.10-py3-none-any.whl (18 kB)\n",
      "Requirement already satisfied: sniffio in c:\\users\\a\\appdata\\local\\programs\\python\\python39\\lib\\site-packages (from trio~=0.17->selenium) (1.2.0)\n",
      "Collecting exceptiongroup>=1.0.0rc9\n",
      "  Downloading exceptiongroup-1.0.4-py3-none-any.whl (14 kB)\n",
      "Collecting outcome\n",
      "  Downloading outcome-1.2.0-py2.py3-none-any.whl (9.7 kB)\n",
      "Requirement already satisfied: pycparser in c:\\users\\a\\appdata\\local\\programs\\python\\python39\\lib\\site-packages (from cffi>=1.14->trio~=0.17->selenium) (2.21)\n",
      "Collecting wsproto>=0.14\n",
      "  Downloading wsproto-1.2.0-py3-none-any.whl (24 kB)\n",
      "Collecting PySocks!=1.5.7,<2.0,>=1.5.6\n",
      "  Downloading PySocks-1.7.1-py3-none-any.whl (16 kB)\n",
      "Requirement already satisfied: h11<1,>=0.9.0 in c:\\users\\a\\appdata\\local\\programs\\python\\python39\\lib\\site-packages (from wsproto>=0.14->trio-websocket~=0.9->selenium) (0.13.0)\n",
      "Installing collected packages: sortedcontainers, outcome, exceptiongroup, async-generator, wsproto, trio, PySocks, trio-websocket, selenium\n",
      "Successfully installed PySocks-1.7.1 async-generator-1.10 exceptiongroup-1.0.4 outcome-1.2.0 selenium-4.6.1 sortedcontainers-2.4.0 trio-0.22.0 trio-websocket-0.9.2 wsproto-1.2.0\n"
     ]
    },
    {
     "name": "stderr",
     "output_type": "stream",
     "text": [
      "WARNING: You are using pip version 21.1.3; however, version 22.3.1 is available.\n",
      "You should consider upgrading via the 'c:\\users\\a\\appdata\\local\\programs\\python\\python39\\python.exe -m pip install --upgrade pip' command.\n"
     ]
    }
   ],
   "source": [
    "!pip install selenium"
   ]
  },
  {
   "cell_type": "code",
   "execution_count": 9,
   "metadata": {},
   "outputs": [],
   "source": [
    "#//written by Hanieh Sadat Nojabaie\n",
    "import time\n",
    "import re\n",
    "from selenium import webdriver\n",
    "import pandas as pd\n",
    "#//global variable defining\n",
    "results={}\n",
    "flag=1\n",
    "pageNumber=2\n",
    "counter=1\n",
    "\n",
    "#//function for find sub string \n",
    "def find_between_r( s, first, last ):\n",
    "    try:\n",
    "        start = s.rindex( first ) + len( first )\n",
    "        end = s.rindex( last, start )\n",
    "        return s[start:end]\n",
    "    except ValueError:\n",
    "        return \"-\"\n"
   ]
  },
  {
   "cell_type": "code",
   "execution_count": 10,
   "metadata": {},
   "outputs": [
    {
     "name": "stderr",
     "output_type": "stream",
     "text": [
      "C:\\Users\\a\\AppData\\Local\\Temp\\ipykernel_8512\\3533218354.py:1: DeprecationWarning: executable_path has been deprecated, please pass in a Service object\n",
      "  driver = webdriver.Chrome('/path/to/chromedriver')\n",
      "C:\\Users\\a\\AppData\\Local\\Temp\\ipykernel_8512\\3533218354.py:3: DeprecationWarning: executable_path has been deprecated, please pass in a Service object\n",
      "  driver = webdriver.Chrome('chromedriver.exe')\n"
     ]
    }
   ],
   "source": [
    "driver = webdriver.Chrome('/path/to/chromedriver')\n",
    "#//automated browser    \n",
    "driver = webdriver.Chrome('chromedriver.exe')\n",
    "driver.get(\"http://ara.jri.ac.ir/Judge/Index?_IsCivil=true&JudgeTypes=6\")\n",
    "#//stop 3 second for loading page\n",
    "time.sleep(3)"
   ]
  },
  {
   "cell_type": "code",
   "execution_count": 11,
   "metadata": {},
   "outputs": [
    {
     "ename": "AttributeError",
     "evalue": "'WebDriver' object has no attribute 'find_element_by_xpath'",
     "output_type": "error",
     "traceback": [
      "\u001b[1;31m---------------------------------------------------------------------------\u001b[0m",
      "\u001b[1;31mAttributeError\u001b[0m                            Traceback (most recent call last)",
      "Input \u001b[1;32mIn [11]\u001b[0m, in \u001b[0;36m<module>\u001b[1;34m\u001b[0m\n\u001b[0;32m      6\u001b[0m         i\u001b[38;5;241m=\u001b[39m\u001b[38;5;28mstr\u001b[39m(i)\n\u001b[0;32m      7\u001b[0m         \u001b[38;5;66;03m#//if except handle\u001b[39;00m\n\u001b[0;32m      8\u001b[0m \n\u001b[0;32m      9\u001b[0m \u001b[38;5;66;03m#         try:  \u001b[39;00m\n\u001b[1;32m---> 10\u001b[0m         link\u001b[38;5;241m=\u001b[39m\u001b[43mdriver\u001b[49m\u001b[38;5;241;43m.\u001b[39;49m\u001b[43mfind_element_by_xpath\u001b[49m(\u001b[38;5;124m'\u001b[39m\u001b[38;5;124m//*[@id=\u001b[39m\u001b[38;5;124m\"\u001b[39m\u001b[38;5;124mmain\u001b[39m\u001b[38;5;124m\"\u001b[39m\u001b[38;5;124m]/div[4]/form/table[1]/tbody/tr[\u001b[39m\u001b[38;5;124m'\u001b[39m\u001b[38;5;241m+\u001b[39mi\u001b[38;5;241m+\u001b[39m\u001b[38;5;124m'\u001b[39m\u001b[38;5;124m]/td[2]/a\u001b[39m\u001b[38;5;124m'\u001b[39m) \n\u001b[0;32m     11\u001b[0m         \u001b[38;5;66;03m#//extract link of next page from attribute \u001b[39;00m\n\u001b[0;32m     12\u001b[0m         newlink\u001b[38;5;241m=\u001b[39mlink\u001b[38;5;241m.\u001b[39mget_attribute(\u001b[38;5;124m\"\u001b[39m\u001b[38;5;124mhref\u001b[39m\u001b[38;5;124m\"\u001b[39m)\n",
      "\u001b[1;31mAttributeError\u001b[0m: 'WebDriver' object has no attribute 'find_element_by_xpath'"
     ]
    }
   ],
   "source": [
    "#//scraping results page to page\n",
    "while(flag):\n",
    "    \n",
    "    for i in range(2,25):\n",
    "  \n",
    "        i=str(i)\n",
    "        #//if except handle\n",
    "\n",
    "#         try:  \n",
    "        link=driver.find_element_by_xpath('//*[@id=\"main\"]/div[4]/form/table[1]/tbody/tr['+i+']/td[2]/a') \n",
    "        #//extract link of next page from attribute \n",
    "        newlink=link.get_attribute(\"href\")\n",
    "        link.click()\n",
    "        driver.get(newlink);\n",
    "\n",
    "        #//extract text\n",
    "        try:\n",
    "            text=driver.find_element_by_xpath('//*[@id=\"treeText\"]/p[3]').text\n",
    "        except:\n",
    "            text=\"no tag matches\"\n",
    "\n",
    "        #//extract date\n",
    "        date=find_between_r( text, \"مورخ\", \"صادره\" );\n",
    "        if(date!=\"-\"):\n",
    "            date=date[:10] \n",
    "            date=re.findall('[0-9]+',date)\n",
    "            t=\"\";\n",
    "            i=len(date)-1\n",
    "            while(i!=-1):\n",
    "                t=t+date[i]+\"-\";\n",
    "                i=i-1;\n",
    "            t=t[:-1];   \n",
    "            date=t\n",
    "\n",
    "\n",
    "       #//extract madde\n",
    "        rule=find_between_r( text, \"مواد\", \"قانون\" );\n",
    "        if(rule==\"-\"):\n",
    "            rule=find_between_r( text, \"ماده\", \" قانون\" );\n",
    "        if(rule!=\"-\"):\n",
    "            rule=re.findall('[0-9]+',rule)\n",
    "            e=\"\"\n",
    "            for m in rule:\n",
    "                e=e+m+\"-\"\n",
    "            e=e[:-1]\n",
    "            rule=e\n",
    "\n",
    "#         except:\n",
    "#             flag=0;\n",
    "#             print(\"جست و جو تمام شد\");\n",
    "        \n",
    "       \n",
    "        \n",
    "       \n",
    "        p=str(counter);\n",
    "        #//add new result to results\n",
    "        results[p]=[text,date,rule,]\n",
    "        counter=counter+1;\n",
    "        #//go back to Previous page \n",
    "        driver.back()\n",
    "       \n",
    "    \n",
    "\n",
    "  \n",
    "    #//after checking out all item of first page of results item\n",
    "    #//set number of next page - continue\n",
    "    pageNum = driver.find_element_by_id('PageNumber')\n",
    "    pageNum.clear();\n",
    "    pageNum.send_keys(pageNumber);\n",
    "    driver.find_element_by_xpath('//*[@id=\"main\"]/div[4]/form/table[2]/tbody/tr/td[2]/input[2]').click()\n",
    "    pageNumber=pageNumber+1\n",
    "    #//conditon for checking 3 First page\n",
    "    if(pageNumber==4):\n",
    "        flag=0"
   ]
  },
  {
   "cell_type": "code",
   "execution_count": null,
   "metadata": {},
   "outputs": [],
   "source": [
    "    "
   ]
  },
  {
   "cell_type": "code",
   "execution_count": 7,
   "metadata": {},
   "outputs": [
    {
     "ename": "SyntaxError",
     "evalue": "invalid syntax (117708857.py, line 1)",
     "output_type": "error",
     "traceback": [
      "\u001b[1;36m  Input \u001b[1;32mIn [7]\u001b[1;36m\u001b[0m\n\u001b[1;33m    پیش خرید\u001b[0m\n\u001b[1;37m        ^\u001b[0m\n\u001b[1;31mSyntaxError\u001b[0m\u001b[1;31m:\u001b[0m invalid syntax\n"
     ]
    }
   ],
   "source": [
    "پیش خرید"
   ]
  },
  {
   "cell_type": "markdown",
   "metadata": {},
   "source": [
    "https://chromedriver.chromium.org/downloads"
   ]
  },
  {
   "cell_type": "code",
   "execution_count": 8,
   "metadata": {},
   "outputs": [
    {
     "data": {
      "text/html": [
       "<div>\n",
       "<style scoped>\n",
       "    .dataframe tbody tr th:only-of-type {\n",
       "        vertical-align: middle;\n",
       "    }\n",
       "\n",
       "    .dataframe tbody tr th {\n",
       "        vertical-align: top;\n",
       "    }\n",
       "\n",
       "    .dataframe thead th {\n",
       "        text-align: right;\n",
       "    }\n",
       "</style>\n",
       "<table border=\"1\" class=\"dataframe\">\n",
       "  <thead>\n",
       "    <tr style=\"text-align: right;\">\n",
       "      <th></th>\n",
       "      <th>متن رای بدوی</th>\n",
       "      <th>تاریخ</th>\n",
       "      <th>ماده</th>\n",
       "    </tr>\n",
       "  </thead>\n",
       "  <tbody>\n",
       "  </tbody>\n",
       "</table>\n",
       "</div>"
      ],
      "text/plain": [
       "Empty DataFrame\n",
       "Columns: [متن رای بدوی, تاریخ, ماده]\n",
       "Index: []"
      ]
     },
     "execution_count": 8,
     "metadata": {},
     "output_type": "execute_result"
    }
   ],
   "source": [
    "#//show results\n",
    "results_item_df=pd.DataFrame.from_dict(results,orient=\"index\",columns=[\"متن رای بدوی\",\"تاریخ\",\"ماده\"]);\n",
    "results_item_df.head(100)"
   ]
  },
  {
   "cell_type": "code",
   "execution_count": 116,
   "metadata": {},
   "outputs": [],
   "source": [
    "driver.quit()"
   ]
  },
  {
   "cell_type": "code",
   "execution_count": null,
   "metadata": {},
   "outputs": [],
   "source": []
  }
 ],
 "metadata": {
  "kernelspec": {
   "display_name": "Python 3 (ipykernel)",
   "language": "python",
   "name": "python3"
  },
  "language_info": {
   "codemirror_mode": {
    "name": "ipython",
    "version": 3
   },
   "file_extension": ".py",
   "mimetype": "text/x-python",
   "name": "python",
   "nbconvert_exporter": "python",
   "pygments_lexer": "ipython3",
   "version": "3.9.6"
  }
 },
 "nbformat": 4,
 "nbformat_minor": 4
}
