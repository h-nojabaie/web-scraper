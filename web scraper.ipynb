{
 "cells": [
  {
   "cell_type": "code",
   "execution_count": null,
   "metadata": {},
   "outputs": [],
   "source": [
    "!pip install selenium"
   ]
  },
  {
   "cell_type": "code",
   "execution_count": null,
   "metadata": {},
   "outputs": [],
   "source": [
    "#//written by Hanieh Sadat Nojabaie\n",
    "import time\n",
    "import re\n",
    "from selenium import webdriver\n",
    "import pandas as pd\n",
    "#//global variable defining\n",
    "results={}\n",
    "flag=1\n",
    "pageNumber=2\n",
    "counter=1\n",
    "\n",
    "#//function for find sub string \n",
    "def find_between_r( s, first, last ):\n",
    "    try:\n",
    "        start = s.rindex( first ) + len( first )\n",
    "        end = s.rindex( last, start )\n",
    "        return s[start:end]\n",
    "    except ValueError:\n",
    "        return \"-\"\n"
   ]
  },
  {
   "cell_type": "code",
   "execution_count": null,
   "metadata": {},
   "outputs": [],
   "source": [
    "driver = webdriver.Chrome('/path/to/chromedriver')\n",
    "#//automated browser    \n",
    "driver = webdriver.Chrome('chromedriver.exe')\n",
    "driver.get(\"http://ara.jri.ac.ir/Judge/Index?_IsCivil=true&JudgeTypes=6\")\n",
    "#//stop 3 second for loading page\n",
    "time.sleep(3)"
   ]
  },
  {
   "cell_type": "code",
   "execution_count": null,
   "metadata": {},
   "outputs": [],
   "source": [
    "#//scraping results page to page\n",
    "while(flag):\n",
    "    \n",
    "    for i in range(2,25):\n",
    "  \n",
    "        i=str(i)\n",
    "        #//if except handle\n",
    "\n",
    "#         try:  \n",
    "        link=driver.find_element_by_xpath('//*[@id=\"main\"]/div[4]/form/table[1]/tbody/tr['+i+']/td[2]/a') \n",
    "        #//extract link of next page from attribute \n",
    "        newlink=link.get_attribute(\"href\")\n",
    "        link.click()\n",
    "        driver.get(newlink);\n",
    "\n",
    "        #//extract text\n",
    "        try:\n",
    "            text=driver.find_element_by_xpath('//*[@id=\"treeText\"]/p[3]').text\n",
    "        except:\n",
    "            text=\"no tag matches\"\n",
    "\n",
    "        #//extract date\n",
    "        date=find_between_r( text, \"مورخ\", \"صادره\" );\n",
    "        if(date!=\"-\"):\n",
    "            date=date[:10] \n",
    "            date=re.findall('[0-9]+',date)\n",
    "            t=\"\";\n",
    "            i=len(date)-1\n",
    "            while(i!=-1):\n",
    "                t=t+date[i]+\"-\";\n",
    "                i=i-1;\n",
    "            t=t[:-1];   \n",
    "            date=t\n",
    "\n",
    "\n",
    "       #//extract madde\n",
    "        rule=find_between_r( text, \"مواد\", \"قانون\" );\n",
    "        if(rule==\"-\"):\n",
    "            rule=find_between_r( text, \"ماده\", \" قانون\" );\n",
    "        if(rule!=\"-\"):\n",
    "            rule=re.findall('[0-9]+',rule)\n",
    "            e=\"\"\n",
    "            for m in rule:\n",
    "                e=e+m+\"-\"\n",
    "            e=e[:-1]\n",
    "            rule=e\n",
    "\n",
    "#         except:\n",
    "#             flag=0;\n",
    "#             print(\"جست و جو تمام شد\");\n",
    "        \n",
    "       \n",
    "        \n",
    "       \n",
    "        p=str(counter);\n",
    "        #//add new result to results\n",
    "        results[p]=[text,date,rule,]\n",
    "        counter=counter+1;\n",
    "        #//go back to Previous page \n",
    "        driver.back()\n",
    "       \n",
    "    \n",
    "\n",
    "  \n",
    "    #//after checking out all item of first page of results item\n",
    "    #//set number of next page - continue\n",
    "    pageNum = driver.find_element_by_id('PageNumber')\n",
    "    pageNum.clear();\n",
    "    pageNum.send_keys(pageNumber);\n",
    "    driver.find_element_by_xpath('//*[@id=\"main\"]/div[4]/form/table[2]/tbody/tr/td[2]/input[2]').click()\n",
    "    pageNumber=pageNumber+1\n",
    "    #//conditon for checking 3 First page\n",
    "    if(pageNumber==4):\n",
    "        flag=0"
   ]
  },
  {
   "cell_type": "code",
   "execution_count": null,
   "metadata": {},
   "outputs": [],
   "source": [
    "#//show results\n",
    "results_item_df=pd.DataFrame.from_dict(results,orient=\"index\",columns=[\"متن رای بدوی\",\"تاریخ\",\"ماده\"]);\n",
    "results_item_df.head(100)"
   ]
  },
  {
   "cell_type": "code",
   "execution_count": null,
   "metadata": {},
   "outputs": [],
   "source": [
    "driver.quit()"
   ]
  },
  {
   "cell_type": "code",
   "execution_count": null,
   "metadata": {},
   "outputs": [],
   "source": []
  }
 ],
 "metadata": {
  "kernelspec": {
   "display_name": "Python 3 (ipykernel)",
   "language": "python",
   "name": "python3"
  },
  "language_info": {
   "codemirror_mode": {
    "name": "ipython",
    "version": 3
   },
   "file_extension": ".py",
   "mimetype": "text/x-python",
   "name": "python",
   "nbconvert_exporter": "python",
   "pygments_lexer": "ipython3",
   "version": "3.9.6"
  }
 },
 "nbformat": 4,
 "nbformat_minor": 4
}
